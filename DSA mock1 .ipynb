{
 "cells": [
  {
   "cell_type": "code",
   "execution_count": null,
   "id": "b0e46d24",
   "metadata": {},
   "outputs": [],
   "source": [
    "\n",
    "Example 1:\n",
    "Input: nums = [0,1,0,3,12]\n",
    "Output: [1,3,12,0,0]"
   ]
  },
  {
   "cell_type": "code",
   "execution_count": 1,
   "id": "1c0e2efe",
   "metadata": {},
   "outputs": [
    {
     "name": "stdout",
     "output_type": "stream",
     "text": [
      "[12, 3, 1, 0, 0]\n"
     ]
    }
   ],
   "source": [
    "nums = [0,1,0,3,12]\n",
    "sorted_nums = sorted(nums, reverse=True)\n",
    "print(sorted_nums)"
   ]
  },
  {
   "cell_type": "code",
   "execution_count": null,
   "id": "69e7a18a",
   "metadata": {},
   "outputs": [],
   "source": [
    "\n",
    "Example 2:\n",
    "Input: nums = [0]\n",
    "Output: [0]"
   ]
  },
  {
   "cell_type": "code",
   "execution_count": 2,
   "id": "0c753cec",
   "metadata": {},
   "outputs": [
    {
     "name": "stdout",
     "output_type": "stream",
     "text": [
      "0\n"
     ]
    }
   ],
   "source": [
    "def minimumScore(nums, k):\n",
    "    minimum = float('inf')\n",
    "    maximum = float('-inf')\n",
    "\n",
    "    for num in nums:\n",
    "        minimum = min(minimum, num)\n",
    "        maximum = max(maximum, num)\n",
    "\n",
    "    score = maximum - minimum\n",
    "\n",
    "    if score == 0:\n",
    "        return 0\n",
    "\n",
    "    min_score = float('inf')\n",
    "\n",
    "    for i in range(len(nums)):\n",
    "        potential_min = min(minimum, nums[i] + k)\n",
    "        potential_max = max(maximum, nums[i] - k)\n",
    "        min_score = min(min_score, potential_max - potential_min)\n",
    "\n",
    "    return min_score\n",
    "\n",
    "nums = [1]\n",
    "k = 0\n",
    "result = minimumScore(nums, k)\n",
    "print(result)"
   ]
  },
  {
   "cell_type": "code",
   "execution_count": null,
   "id": "5a71534e",
   "metadata": {},
   "outputs": [],
   "source": []
  },
  {
   "cell_type": "code",
   "execution_count": null,
   "id": "9a6edf84",
   "metadata": {},
   "outputs": [],
   "source": []
  },
  {
   "cell_type": "code",
   "execution_count": null,
   "id": "54851314",
   "metadata": {},
   "outputs": [],
   "source": []
  },
  {
   "cell_type": "code",
   "execution_count": null,
   "id": "3c25f5e8",
   "metadata": {},
   "outputs": [],
   "source": []
  },
  {
   "cell_type": "code",
   "execution_count": null,
   "id": "7c38b532",
   "metadata": {},
   "outputs": [],
   "source": []
  },
  {
   "cell_type": "code",
   "execution_count": null,
   "id": "6b7ba52c",
   "metadata": {},
   "outputs": [],
   "source": []
  },
  {
   "cell_type": "code",
   "execution_count": null,
   "id": "431cd8e4",
   "metadata": {},
   "outputs": [],
   "source": []
  },
  {
   "cell_type": "code",
   "execution_count": null,
   "id": "a9160eed",
   "metadata": {},
   "outputs": [],
   "source": []
  },
  {
   "cell_type": "code",
   "execution_count": null,
   "id": "6f69cd4c",
   "metadata": {},
   "outputs": [],
   "source": []
  },
  {
   "cell_type": "code",
   "execution_count": null,
   "id": "aa29d085",
   "metadata": {},
   "outputs": [],
   "source": []
  },
  {
   "cell_type": "code",
   "execution_count": null,
   "id": "a368d2bf",
   "metadata": {},
   "outputs": [],
   "source": []
  }
 ],
 "metadata": {
  "kernelspec": {
   "display_name": "Python 3 (ipykernel)",
   "language": "python",
   "name": "python3"
  },
  "language_info": {
   "codemirror_mode": {
    "name": "ipython",
    "version": 3
   },
   "file_extension": ".py",
   "mimetype": "text/x-python",
   "name": "python",
   "nbconvert_exporter": "python",
   "pygments_lexer": "ipython3",
   "version": "3.9.13"
  }
 },
 "nbformat": 4,
 "nbformat_minor": 5
}
